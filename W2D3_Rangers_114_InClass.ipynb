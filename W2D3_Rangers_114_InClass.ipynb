{
 "cells": [
  {
   "cell_type": "markdown",
   "metadata": {},
   "source": [
    "# Dictionaries & Sets"
   ]
  },
  {
   "cell_type": "markdown",
   "metadata": {},
   "source": [
    "## Tasks Today:\n",
    "\n",
    "1) Dictionary <br>\n",
    " &nbsp;&nbsp;&nbsp;&nbsp; a) Declaring (key, value) <br>\n",
    " &nbsp;&nbsp;&nbsp;&nbsp; b) Accessing Values <br>\n",
    " &nbsp;&nbsp;&nbsp;&nbsp; ------ Exercise #1 - Print the eye color of each person in a double nested dict <br>\n",
    " &nbsp;&nbsp;&nbsp;&nbsp; c) Adding New Pairs <br>\n",
    " &nbsp;&nbsp;&nbsp;&nbsp; d) Modifying Values <br>\n",
    " &nbsp;&nbsp;&nbsp;&nbsp; e) Removing Key, Value Pairs <br>\n",
    " &nbsp;&nbsp;&nbsp;&nbsp; f) Looping a Dictionary <br>\n",
    " &nbsp;&nbsp;&nbsp;&nbsp; g) Looping Only Keys <br>\n",
    " &nbsp;&nbsp;&nbsp;&nbsp; h) Looping Only Values <br>\n",
    " &nbsp;&nbsp;&nbsp;&nbsp; ------ Exercise #2 - Create a program\n",
    " that Prints All Key Value Pairs within a print .format()  <br>\n",
    " &nbsp;&nbsp;&nbsp;&nbsp; i) sorted() <br>\n",
    " &nbsp;&nbsp;&nbsp;&nbsp; j) Lists with Dictionaries <br>\n",
    " &nbsp;&nbsp;&nbsp;&nbsp; k) Dictionaries with Lists <br>\n",
    " &nbsp;&nbsp;&nbsp;&nbsp; l) Dictionaries with Dictionaries <br>\n",
    " &nbsp;&nbsp;&nbsp;&nbsp; ------ Exercise #3 - Write a Function that asks someone's name and address, and then stores that into a dictionary, which prints all names and addresses after they're done putting information in...  <br>\n",
    "2) Dictionaries vs. Lists (over time)<br>\n",
    "3) Set <br>\n",
    " &nbsp;&nbsp;&nbsp;&nbsp; a) Declaring <br>\n",
    " &nbsp;&nbsp;&nbsp;&nbsp; b) .add() <br>\n",
    " &nbsp;&nbsp;&nbsp;&nbsp; c) .remove() <br>\n",
    " &nbsp;&nbsp;&nbsp;&nbsp; d) .union() <br>\n",
    " &nbsp;&nbsp;&nbsp;&nbsp; e) .intersection() <br>\n",
    " &nbsp;&nbsp;&nbsp;&nbsp; f) .difference() <br>\n",
    " &nbsp;&nbsp;&nbsp;&nbsp; g) Frozen Set <br>\n",
    "4) Modules <br>\n",
    " &nbsp;&nbsp;&nbsp;&nbsp; a) Importing Entire Modules <br>\n",
    " &nbsp;&nbsp;&nbsp;&nbsp; b) Importing Methods Only <br>\n",
    " &nbsp;&nbsp;&nbsp;&nbsp; c) Using the 'as' Keyword <br>\n",
    " &nbsp;&nbsp;&nbsp;&nbsp; d) Creating a Module <br>\n",
    "5) Exercises <br>\n",
    " &nbsp;&nbsp;&nbsp;&nbsp; a) Build a Shopping Cart <br>\n",
    " &nbsp;&nbsp;&nbsp;&nbsp; b) Create Your Own Module <br>"
   ]
  },
  {
   "cell_type": "markdown",
   "metadata": {},
   "source": [
    "## Dictionary <br>\n",
    "<p>A collection of data with 'key:value' pairs. Dictionaries are ordered as of Python 3.6</p>"
   ]
  },
  {
   "cell_type": "markdown",
   "metadata": {},
   "source": [
    "##### Declaring (key, value)"
   ]
  },
  {
   "cell_type": "code",
   "execution_count": 9,
   "metadata": {},
   "outputs": [],
   "source": [
    "# key value pair, keys always need to be unieque\n",
    "# can use inigers(numbers), or strings as keys\n",
    "\n",
    "d_1 = {}\n",
    "\n",
    "d_2 = dict()\n",
    "\n",
    "# or \n",
    "#  non empty dict\n",
    "\n",
    "d_3 = {\n",
    "    \"Tom\": \"244 main street\",\n",
    "    \"Jerry\": \"187 4th streert\",\n",
    "    0: \"This is a hero\",\n",
    "}"
   ]
  },
  {
   "cell_type": "markdown",
   "metadata": {},
   "source": [
    "##### Accessing Values"
   ]
  },
  {
   "cell_type": "code",
   "execution_count": 10,
   "metadata": {
    "scrolled": true
   },
   "outputs": [
    {
     "name": "stdout",
     "output_type": "stream",
     "text": [
      "187 4th streert\n"
     ]
    }
   ],
   "source": [
    "# print(d_3[\"Tom\"])\n",
    "print(d_3[\"Jerry\"])"
   ]
  },
  {
   "cell_type": "code",
   "execution_count": 11,
   "metadata": {},
   "outputs": [
    {
     "name": "stdout",
     "output_type": "stream",
     "text": [
      "Ethan\n"
     ]
    }
   ],
   "source": [
    "d_4 = {\n",
    "    \"name\": \"Ethan\",\n",
    "    \"name2\": \"Swan\"\n",
    "}\n",
    "print(d_4[\"name\"])\n",
    "\n",
    "\n"
   ]
  },
  {
   "cell_type": "markdown",
   "metadata": {},
   "source": [
    "## In-Class Exercise #1 - Print a formatted statement from the dictionary below <br>\n",
    "<p>The output should be '2018 Chevrolet Silverado'</p>"
   ]
  },
  {
   "cell_type": "code",
   "execution_count": 17,
   "metadata": {},
   "outputs": [
    {
     "name": "stdout",
     "output_type": "stream",
     "text": [
      "2018 Chevrolet Silverado\n"
     ]
    }
   ],
   "source": [
    "# use the dict below\n",
    "truck = {\n",
    "    \"year\": 2018,\n",
    "    'make': 'Chevrolet',\n",
    "    'model': 'Silverado'\n",
    "}\n",
    "# print(truck[\"year\"],truck[\"make\"], truck[\"model\"])\n",
    "print(f'{truck[\"year\"]} {truck[\"make\"]} {truck[\"model\"]}')"
   ]
  },
  {
   "cell_type": "code",
   "execution_count": null,
   "metadata": {},
   "outputs": [],
   "source": []
  },
  {
   "cell_type": "code",
   "execution_count": null,
   "metadata": {},
   "outputs": [],
   "source": []
  },
  {
   "cell_type": "markdown",
   "metadata": {},
   "source": [
    "##### Adding New Pairs"
   ]
  },
  {
   "cell_type": "code",
   "execution_count": null,
   "metadata": {},
   "outputs": [],
   "source": [
    "#  dict[key] = value\n"
   ]
  },
  {
   "cell_type": "code",
   "execution_count": 19,
   "metadata": {},
   "outputs": [
    {
     "name": "stdout",
     "output_type": "stream",
     "text": [
      "{'Tom': '244 main street', 'Jerry': '187 4th streert', 0: 'This is a hero', 'Spike': '257 west road', 'tike': '257 main street'}\n",
      "{'Beverage': 'water'}\n"
     ]
    }
   ],
   "source": [
    "d_3 = {\n",
    "    \"Tom\": \"244 main street\",\n",
    "    \"Jerry\": \"187 4th streert\",\n",
    "    0: \"This is a hero\",\n",
    "}\n",
    "\n",
    "d_3[\"Spike\"] = \"257 west road\"\n",
    "d_3[\"tike\"] = \"257 main street\"\n",
    "\n",
    "print(d_3)\n",
    "\n",
    "d_4 = {}\n",
    "\n",
    "d_4[\"Beverage\"] = \"water\"\n",
    "print(d_4)"
   ]
  },
  {
   "cell_type": "markdown",
   "metadata": {},
   "source": [
    "##### Modifying Values"
   ]
  },
  {
   "cell_type": "code",
   "execution_count": 22,
   "metadata": {},
   "outputs": [
    {
     "name": "stdout",
     "output_type": "stream",
     "text": [
      "{'Beverage': 'coffee', 'beverage2': 'belle vie'}\n",
      "{'Beverage': 'coffee', 'beverage2': 'belle vie'}\n",
      "{'Beverage': 'coffee', 'beverage2': 'belle vie'}\n"
     ]
    }
   ],
   "source": [
    "# dict[key] = \"new value\" if key already exist in dict\n",
    "\n",
    "print(d_4)\n",
    "d_4[\"Beverage\"] = \"coffee\"\n",
    "print(d_4)\n",
    "\n",
    "drink = \"belle vie\"\n",
    "\n",
    "if drink not in d_4:\n",
    "    d_4[\"beverage2\"] = drink\n",
    "else:\n",
    "    d_4[\"beverage2\"] = \"top chico\"\n",
    "    \n",
    "    \n",
    "print(d_4)"
   ]
  },
  {
   "cell_type": "code",
   "execution_count": 23,
   "metadata": {},
   "outputs": [
    {
     "name": "stdout",
     "output_type": "stream",
     "text": [
      "{'Tom': '244 main street', 'Jerry': '255 main street', 0: 'This is a hero', 'Spike': '257 west road', 'tike': '257 main street'}\n"
     ]
    }
   ],
   "source": [
    "d_3[\"Jerry\"] = '255 main street'\n",
    "print(d_3)"
   ]
  },
  {
   "cell_type": "markdown",
   "metadata": {},
   "source": [
    "##### Removing Key, Value Pairs"
   ]
  },
  {
   "cell_type": "code",
   "execution_count": 26,
   "metadata": {},
   "outputs": [
    {
     "name": "stdout",
     "output_type": "stream",
     "text": [
      "{'Tom': '244 main street', 'Jerry': '255 main street', 'Spike': '257 west road', 'tike': '257 main street'}\n",
      "{'Tom': '244 main street', 'Spike': '257 west road', 'tike': '257 main street'}\n"
     ]
    }
   ],
   "source": [
    "#  del dict[key]\n",
    "#  del(my_list[0]) or del dict[key] or del my_list[0]\n",
    "\n",
    "print(d_3)\n",
    "\n",
    "del d_3[\"Jerry\"]  # [0] is a key not an index\n",
    "\n",
    "print(d_3)"
   ]
  },
  {
   "cell_type": "markdown",
   "metadata": {},
   "source": [
    "##### Looping a Dictionary"
   ]
  },
  {
   "cell_type": "code",
   "execution_count": 30,
   "metadata": {},
   "outputs": [
    {
     "name": "stdout",
     "output_type": "stream",
     "text": [
      "Tom lives at this address: 244 main street\n",
      "Spike lives at this address: 257 west road\n",
      "tike lives at this address: 257 main street\n"
     ]
    }
   ],
   "source": [
    "#  dict.items()\n",
    "d_3 = {'Tom': '244 main street', 'Spike': '257 west road', 'tike': '257 main street'}\n",
    "\n",
    "\n",
    "for k, v in d_3.items():\n",
    "    print(f\"{k} lives at this address: {v}\")"
   ]
  },
  {
   "cell_type": "code",
   "execution_count": 34,
   "metadata": {},
   "outputs": [
    {
     "name": "stdout",
     "output_type": "stream",
     "text": [
      "0 ethan\n",
      "1 desiree\n",
      "2 chuck\n",
      "3 alex\n",
      "4 abdel\n"
     ]
    }
   ],
   "source": [
    "#  creating a dict out of enumerated list\n",
    "\n",
    "my_list = ['ethan', 'desiree', 'chuck', 'alex', 'abdel']\n",
    "my_dict = {}\n",
    "\n",
    "for i, name in enumerate(my_list):\n",
    "    my_dict[i] = name\n",
    "    \n",
    "for k, v in my_dict.items():\n",
    "    print(k, v)"
   ]
  },
  {
   "cell_type": "markdown",
   "metadata": {},
   "source": [
    "##### Looping Only Keys"
   ]
  },
  {
   "cell_type": "code",
   "execution_count": 38,
   "metadata": {},
   "outputs": [
    {
     "name": "stdout",
     "output_type": "stream",
     "text": [
      "Tom\n",
      "Spike\n",
      "tike\n",
      "\n",
      "\n",
      "Tom\n",
      "Spike\n",
      "tike\n"
     ]
    }
   ],
   "source": [
    "#  dict.keys()\n",
    "\n",
    "d_3 = {'Tom': '244 main street', 'Spike': '257 west road', 'tike': '257 main street'}\n",
    "\n",
    "for key in d_3:\n",
    "    print(key)\n",
    "    \n",
    "print(\"\\n\")\n",
    "\n",
    "for name in d_3.keys():\n",
    "    print(name)"
   ]
  },
  {
   "cell_type": "markdown",
   "metadata": {},
   "source": [
    "##### Looping Only Values"
   ]
  },
  {
   "cell_type": "code",
   "execution_count": 47,
   "metadata": {
    "scrolled": true
   },
   "outputs": [
    {
     "name": "stdout",
     "output_type": "stream",
     "text": [
      "244 main street\n",
      "257 west road\n",
      "257 main street\n",
      "\n",
      "\n",
      "Tom\n",
      "Spike\n",
      "tike\n",
      "Tom lives herte\n",
      "257 west road: 60618\n",
      "257 main street\n"
     ]
    }
   ],
   "source": [
    "# dict.values\n",
    "d_3 = {'Tom': '244 main street', 'Spike': '257 west road', 'tike': '257 main street'}\n",
    "\n",
    "for v in d_3.values():\n",
    "    print(v)\n",
    "    \n",
    "print(\"\\n\")\n",
    "\n",
    "# prints keys\n",
    "for values in d_3:\n",
    "    print(values)\n",
    "\n",
    "\n",
    "for adress in d_3.values():\n",
    "    if adress == \"244 main street\":\n",
    "        print(\"Tom lives herte\")\n",
    "    elif adress == \"257 west road\":\n",
    "        d_3[\"Spike\"] += ': 60618'\n",
    "        print(d_3[\"Spike\"])\n",
    "    else:\n",
    "        print(adress)\n"
   ]
  },
  {
   "cell_type": "markdown",
   "metadata": {},
   "source": [
    "## In-Class Exercise #2 - Create a Function that Prints All Key Value Pairs within a formatted string  <br>\n",
    "<p><b>Output should be:</b><br>\n",
    "Max has blue eyes<br>\n",
    "Lilly has brown eyes<br>\n",
    "Barney has blue eyes<br>\n",
    "etc.\n",
    "</p>"
   ]
  },
  {
   "cell_type": "code",
   "execution_count": 51,
   "metadata": {},
   "outputs": [
    {
     "name": "stdout",
     "output_type": "stream",
     "text": [
      "Max has blue eyes.\n",
      "Lilly has brown eyes.\n",
      "Barney has green eyes.\n",
      "Ted has purple eyes.\n",
      "Sasuke has sharingan eyes.\n"
     ]
    }
   ],
   "source": [
    "# use the dict below\n",
    "people = {\n",
    "    'Max' : 'blue',\n",
    "    'Lilly' : 'brown',\n",
    "    'Barney' : 'green',\n",
    "    'Ted' : 'purple',\n",
    "    'Sasuke' : 'sharingan'    \n",
    "}\n",
    "\n",
    "def function_dict(names):\n",
    "    for k, v in names.items():\n",
    "        print(f\"{k} has {v} eyes.\")\n",
    "        \n",
    "function_dict(people)"
   ]
  },
  {
   "cell_type": "code",
   "execution_count": null,
   "metadata": {},
   "outputs": [],
   "source": []
  },
  {
   "cell_type": "code",
   "execution_count": null,
   "metadata": {},
   "outputs": [],
   "source": []
  },
  {
   "cell_type": "code",
   "execution_count": null,
   "metadata": {},
   "outputs": [],
   "source": []
  },
  {
   "cell_type": "markdown",
   "metadata": {},
   "source": [
    "##### sorted()"
   ]
  },
  {
   "cell_type": "code",
   "execution_count": 59,
   "metadata": {},
   "outputs": [
    {
     "name": "stdout",
     "output_type": "stream",
     "text": [
      "[('Barney', 'green'), ('Lilly', 'brown'), ('Max', 'blue'), ('Sasuke', 'sharingan'), ('Ted', 'purple')]\n",
      "\n",
      "\n",
      "green\n"
     ]
    }
   ],
   "source": [
    "people = {\n",
    "    'Max' : 'blue',\n",
    "    'Lilly' : 'brown',\n",
    "    'Barney' : 'green',\n",
    "    'Ted' : 'purple',\n",
    "    'Sasuke' : 'sharingan'    \n",
    "}\n",
    "# print(\"Values: \", sorted(people.values()))\n",
    "\n",
    "# print(\"Keys: \",sorted(people.keys()))\n",
    "\n",
    "sorted_items = sorted(people.items())\n",
    "print(sorted_items)\n",
    "\n",
    "# sorted_items[0][1] = \"red\"\n",
    "print(\"\\n\")\n",
    "print(sorted_items[0][1])"
   ]
  },
  {
   "cell_type": "markdown",
   "metadata": {},
   "source": [
    "##### List with Dictionaries"
   ]
  },
  {
   "cell_type": "code",
   "execution_count": 68,
   "metadata": {
    "scrolled": true
   },
   "outputs": [
    {
     "name": "stdout",
     "output_type": "stream",
     "text": [
      "no\n",
      "\n",
      "\n",
      "{'leaf_village': 'Nurato', 'leaf_village2': 'Kakashi'}\n",
      "\n",
      "\n",
      "Kakashi\n"
     ]
    }
   ],
   "source": [
    "words = ['ye', 'no', 'maybe', 'under',{\"leaf_village\": \"Nurato\", \"leaf_village2\": \"Kakashi\"}]\n",
    "\n",
    "# once the code knows its a dict we have to call it by key\n",
    "print(words[1])\n",
    "\n",
    "print(\"\\n\")\n",
    "\n",
    "print(words[4])\n",
    "\n",
    "print(\"\\n\")\n",
    "print(words[4][\"leaf_village2\"])"
   ]
  },
  {
   "cell_type": "code",
   "execution_count": 73,
   "metadata": {
    "scrolled": true
   },
   "outputs": [
    {
     "name": "stdout",
     "output_type": "stream",
     "text": [
      "['Dave', 'Sandy', 'Tony', {'random_person': 'Barb', 'random_person2': 'Bart'}]\n",
      "\n",
      "\n",
      "{'random_person': 'Barb', 'random_person2': 'Bart'}\n",
      "\n",
      "\n",
      "Bart\n"
     ]
    }
   ],
   "source": [
    "names = ['Dave', 'Sandy', 'Tony',{\"random_person\": \"Barb\", \"random_person2\": \"Bart\"}]\n",
    "                                   \n",
    "print(names)\n",
    "print(\"\\n\")\n",
    "\n",
    "random_people = names[3]\n",
    "print(random_people)\n",
    "\n",
    "print(\"\\n\")\n",
    "print(random_people[\"random_person2\"])"
   ]
  },
  {
   "cell_type": "markdown",
   "metadata": {},
   "source": [
    "##### Dictionaries with Lists"
   ]
  },
  {
   "cell_type": "code",
   "execution_count": 79,
   "metadata": {},
   "outputs": [
    {
     "name": "stdout",
     "output_type": "stream",
     "text": [
      "90\n",
      "\n",
      "\n",
      "Bulbasaur\n",
      "\n",
      "\n",
      "['John', 'Laura', 'Bulbasaur']\n"
     ]
    }
   ],
   "source": [
    "#  be careful with using numbers as keys to not confuse them with indexes\n",
    "\n",
    "random_data = {\n",
    "    \"list_1\": [54, 67, 90],\n",
    "    \"names\": ['John', 'Laura', 'Bulbasaur']\n",
    "}\n",
    "print(random_data['list_1'][2])\n",
    "print(\"\\n\")\n",
    "\n",
    "print(random_data[\"names\"][2])\n",
    "\n",
    "print(\"\\n\")\n",
    "\n",
    "print(random_data[\"names\"])"
   ]
  },
  {
   "cell_type": "markdown",
   "metadata": {},
   "source": [
    "##### Dictionaries with Dictionaries"
   ]
  },
  {
   "cell_type": "code",
   "execution_count": null,
   "metadata": {
    "scrolled": true
   },
   "outputs": [],
   "source": [
    "food_dict = {\n",
    "    \"Ryan\": {\n",
    "        \"Mexican\": [\"Tacos\", \"Tortas\", \"Burritos\"],\n",
    "        \"Deserts\": ['pie', 'Brownies', 'cookies']\n",
    "    },\n",
    "}\n",
    "\n",
    "music_dict = {\n",
    "    \"Ethan\": {\n",
    "        \"Rock\": ['KGLW', 'Uncle Spudd', 'Your moms house'], \n",
    "        'Rap': ['MF DOOM', 'Kendrick', 'Andrae 3000']\n",
    "    },\n",
    "}"
   ]
  },
  {
   "cell_type": "code",
   "execution_count": 80,
   "metadata": {},
   "outputs": [
    {
     "name": "stdout",
     "output_type": "stream",
     "text": [
      "{'Ryan': {'Mexican': ['Tacos', 'Tortas', 'Burritos'], 'Desserts': ['Pie', 'Brownies', 'Chocolate Chip Cookies']}, 'Alex': {'Hispanic': ['Pupusas', 'Tacos', 'Fajitas'], 'Sweets': ['Pastries', 'Ice Cream', 'Canollis'], 'More Sweets': ['Cheesecake', 'Chantilly Cupcakes', 'Cobbler', 'Pie']}, 'Ethan': {'Rock': ['KGLW', 'Uncle Spudd', 'Your moms house'], 'Rap': ['MF DOOM', 'Kendrick', 'Andrae 3000']}, 'Enoch': {'Japanese': ['Sushi', 'Tempura', 'Onigiri'], 'Desserts': ['Cheesecake', 'Applie Pie', 'Yuzu Creme Brulee']}, 'Htae': {'Ramen': ['Miso', 'Shoyu', 'Shin'], 'Drinks': ['Dr.Pepper', 'Water', 'Boba tea']}, 'Dez': {'Asian': ['Sushi', 'Ramen', 'Pho', 'Curry'], 'Doughnt_shops': ['Sidecar', \"Sk's\", 'Doughnuttery']}, 'Dharti': {'Indian': ['Paneer', 'Rajma', 'Naan'], 'Sweet': ['Jalabi', 'Mohanthal', 'icecream']}, 'Lyle': {'nike': ['airmax', 'jordan', 'cortez'], 'adidas': ['stansmiths', 'promodel', 'nmd']}, 'Daniel': {'Afri': ['garri', 'fufu', 'egusi'], 'easyfood': ['rice', 'beans', 'eba']}, 'Chuck': {'American': ['Cheese_Burger', 'Fries', 'Coke'], 'Desserts': ['Cheese_Cake', 'Milk_Shake', 'Cake']}, 'Ben': {'Indian': ['Tika Masala', 'Naan', 'Chapati', 'Chicken Curry', 'Fish Curry'], 'Desserts': ['Cheesecake', 'Empanadas', 'Churros', 'Ice Cream', 'Mangonada']}, 'Ewa': {'Italian': {'Pizza': ['Margherita', 'Pepperoni', 'Capricciosa'], 'Pasta': ['Spaghetti Bolognese', 'Carbonara', 'Pesto'], 'Dessert': ['Tiramisu', 'Panna Cotta', 'Cannoli']}, 'Mexican': {'Tacos': ['Al Pastor', 'Carnitas', 'Barbacoa'], 'Burritos': ['Bean and Cheese', 'Carne Asada', 'Chicken'], 'Dessert': ['Churros', 'Flan', 'Sopapillas']}}, 'Salim': {'turkish': ['lent soup , kebaba , Gyro '], 'Dessert ': ['Baklava, basbousa ,maamoul']}}\n"
     ]
    }
   ],
   "source": [
    "food_dict = {\n",
    "    \"Ryan\": {\n",
    "        \"Mexican\": [\"Tacos\", \"Tortas\", \"Burritos\"],\n",
    "        \"Desserts\": ['Pie', \"Brownies\", \"Chocolate Chip Cookies\"]\n",
    "    },\n",
    "    \"Alex\": {\n",
    "        \"Hispanic\": ['Pupusas', 'Tacos', 'Fajitas'],\n",
    "        \"Sweets\": ['Pastries', 'Ice Cream', 'Canollis'],\n",
    "        \"More Sweets\" : ['Cheesecake', 'Chantilly Cupcakes', 'Cobbler', 'Pie']\n",
    "    },\n",
    "     \"Ethan\": {\n",
    "        \"Rock\": ['KGLW', 'Uncle Spudd', 'Your moms house'], \n",
    "        'Rap': ['MF DOOM', 'Kendrick', 'Andrae 3000']\n",
    "    },\n",
    "    \"Enoch\": {\n",
    "        \"Japanese\":[\"Sushi\", \"Tempura\", \"Onigiri\"],\n",
    "        \"Desserts\":[\"Cheesecake\", \"Applie Pie\", \"Yuzu Creme Brulee\"]\n",
    "    },\n",
    "    \"Htae\": {\n",
    "        \"Ramen\": [\"Miso\", \"Shoyu\", \"Shin\"],\n",
    "        \"Drinks\": [\"Dr.Pepper\", \"Water\", \"Boba tea\"]\n",
    "    },\n",
    "    \"Dez\": {\n",
    "        \"Asian\":[\"Sushi\", \"Ramen\", \"Pho\", \"Curry\"],\n",
    "        \"Doughnt_shops\": [\"Sidecar\",\"Sk's\", \"Doughnuttery\"]\n",
    "    },\n",
    "    \"Dharti\": {\n",
    "        \"Indian\": [\"Paneer\",\"Rajma\",\"Naan\"],\n",
    "        \"Sweet\": [\"Jalabi\",\"Mohanthal\",\"icecream\"]\n",
    "    },\n",
    "      \"Lyle\": {\n",
    "        'nike': ['airmax', 'jordan', 'cortez'],\n",
    "        'adidas': ['stansmiths', 'promodel', 'nmd']\n",
    "    },\n",
    "    'Daniel' :{\n",
    "    'Afri':['garri', 'fufu', 'egusi'],\n",
    "    'easyfood':['rice', 'beans', 'eba']\n",
    "    },\n",
    "    \"Chuck\": {\n",
    "       \"American\" : ['Cheese_Burger', 'Fries', 'Coke'],\n",
    "       \"Desserts\" : ['Cheese_Cake', 'Milk_Shake', 'Cake'],\n",
    "    },\n",
    "    \"Ben\": {\n",
    "    \"Indian\": [\"Tika Masala\", \"Naan\", \"Chapati\", \"Chicken Curry\", \"Fish Curry\",],\n",
    "    \"Desserts\": [\"Cheesecake\", \"Empanadas\", \"Churros\", \"Ice Cream\", \"Mangonada\"],\n",
    "    },\n",
    "    'Ewa': {\n",
    "    'Italian': {\n",
    "        'Pizza': ['Margherita', 'Pepperoni', 'Capricciosa'],\n",
    "        'Pasta': ['Spaghetti Bolognese', 'Carbonara', 'Pesto'],\n",
    "        'Dessert': ['Tiramisu', 'Panna Cotta', 'Cannoli']\n",
    "    },\n",
    "    \n",
    "    'Mexican': {\n",
    "        'Tacos': ['Al Pastor', 'Carnitas', 'Barbacoa'],\n",
    "        'Burritos': ['Bean and Cheese', 'Carne Asada', 'Chicken'],\n",
    "        'Dessert': ['Churros', 'Flan', 'Sopapillas']\n",
    "    }},\n",
    "     \"Salim\" : {\n",
    "        \"turkish\" :[\"lent soup , kebaba , Gyro \"],\n",
    "        \"Dessert \" :[\"Baklava, basbousa ,maamoul\"]\n",
    "    }\n",
    "    \n",
    "    \n",
    "}\n",
    "\n",
    "print(food_dict)"
   ]
  },
  {
   "cell_type": "code",
   "execution_count": 86,
   "metadata": {},
   "outputs": [
    {
     "name": "stdout",
     "output_type": "stream",
     "text": [
      "\n",
      "here are all our fav foods\n",
      "Tacos\n"
     ]
    }
   ],
   "source": [
    "food_dict = {\n",
    "    \"Ryan\": {\n",
    "        \"Mexican\": [\"Tacos\", \"Tortas\", \"Burritos\"],\n",
    "        \"Desserts\": ['Pie', \"Brownies\", \"Chocolate Chip Cookies\"]\n",
    "    },\n",
    "    \"Alex\": {\n",
    "        \"Hispanic\": ['Pupusas', 'Tacos', 'Fajitas'],\n",
    "        \"Sweets\": ['Pastries', 'Ice Cream', 'Canollis'],\n",
    "        \"More Sweets\" : ['Cheesecake', 'Chantilly Cupcakes', 'Cobbler', 'Pie']\n",
    "    },\n",
    "     \"Ethan\": {\n",
    "        \"Rock\": ['KGLW', 'Uncle Spudd', 'Your moms house'], \n",
    "        'Rap': ['MF DOOM', 'Kendrick', 'Andrae 3000']\n",
    "    },\n",
    "    \"Enoch\": {\n",
    "        \"Japanese\":[\"Sushi\", \"Tempura\", \"Onigiri\"],\n",
    "        \"Desserts\":[\"Cheesecake\", \"Applie Pie\", \"Yuzu Creme Brulee\"]\n",
    "    },\n",
    "    \"Htae\": {\n",
    "        \"Ramen\": [\"Miso\", \"Shoyu\", \"Shin\"],\n",
    "        \"Drinks\": [\"Dr.Pepper\", \"Water\", \"Boba tea\"]\n",
    "    },\n",
    "    \"Dez\": {\n",
    "        \"Asian\":[\"Sushi\", \"Ramen\", \"Pho\", \"Curry\"],\n",
    "        \"Doughnt_shops\": [\"Sidecar\",\"Sk's\", \"Doughnuttery\"]\n",
    "    },\n",
    "    \"Dharti\": {\n",
    "        \"Indian\": [\"Paneer\",\"Rajma\",\"Naan\"],\n",
    "        \"Sweet\": [\"Jalabi\",\"Mohanthal\",\"icecream\"]\n",
    "    },\n",
    "      \"Lyle\": {\n",
    "        'nike': ['airmax', 'jordan', 'cortez'],\n",
    "        'adidas': ['stansmiths', 'promodel', 'nmd']\n",
    "    },\n",
    "    'Daniel' :{\n",
    "    'Afri':['garri', 'fufu', 'egusi'],\n",
    "    'easyfood':['rice', 'beans', 'eba']\n",
    "    },\n",
    "    \"Chuck\": {\n",
    "       \"American\" : ['Cheese_Burger', 'Fries', 'Coke'],\n",
    "       \"Desserts\" : ['Cheese_Cake', 'Milk_Shake', 'Cake'],\n",
    "    },\n",
    "    \"Ben\": {\n",
    "    \"Indian\": [\"Tika Masala\", \"Naan\", \"Chapati\", \"Chicken Curry\", \"Fish Curry\",],\n",
    "    \"Desserts\": [\"Cheesecake\", \"Empanadas\", \"Churros\", \"Ice Cream\", \"Mangonada\"],\n",
    "    },\n",
    "    'Ewa': {\n",
    "    'Italian': {\n",
    "        'Pizza': ['Margherita', 'Pepperoni', 'Capricciosa'],\n",
    "        'Pasta': ['Spaghetti Bolognese', 'Carbonara', 'Pesto'],\n",
    "        'Dessert': ['Tiramisu', 'Panna Cotta', 'Cannoli']\n",
    "    },\n",
    "    \n",
    "    'Mexican': {\n",
    "        'Tacos': ['Al Pastor', 'Carnitas', 'Barbacoa'],\n",
    "        'Burritos': ['Bean and Cheese', 'Carne Asada', 'Chicken'],\n",
    "        'Dessert': ['Churros', 'Flan', 'Sopapillas']\n",
    "    }},\n",
    "     \"Salim\" : {\n",
    "        \"turkish\" :[\"lent soup , kebaba , Gyro \"],\n",
    "        \"Dessert \" :[\"Baklava, basbousa ,maamoul\"]\n",
    "    }\n",
    "    \n",
    "    \n",
    "}\n",
    "\n",
    "print(\"\\nhere are all our fav foods\")\n",
    "\n",
    "# for name in food_dict.keys():\n",
    "#     print(f\"\\n{name}'s favorite foods are: \")\n",
    "#     for food_type in food_dict[name].keys():\n",
    "#         for food in food_dict[name][food_type]:\n",
    "#             print(food)\n",
    "            \n",
    "print(food_dict['Alex']['Hispanic'][1])\n",
    "            \n"
   ]
  },
  {
   "cell_type": "code",
   "execution_count": null,
   "metadata": {},
   "outputs": [],
   "source": []
  },
  {
   "cell_type": "code",
   "execution_count": null,
   "metadata": {},
   "outputs": [],
   "source": []
  },
  {
   "cell_type": "markdown",
   "metadata": {},
   "source": [
    "## Dictionaries vs. Lists (over time) Example of RUNTIME\n",
    "### When inputting values in a Dictionary vs List"
   ]
  },
  {
   "cell_type": "code",
   "execution_count": 88,
   "metadata": {},
   "outputs": [],
   "source": [
    "import time\n",
    "my_list = [1, 2, 3, 4, 5, 6, 7, 8, 9, 10]\n",
    "\n",
    "# generate dict\n",
    "\n",
    "d = {}\n",
    "\n",
    "for i in range(10000000):\n",
    "    d[i] = \"value\" +str(i)\n",
    "    \n",
    "# generate a list\n",
    "big_list = [x for x in range(10000000)]\n"
   ]
  },
  {
   "cell_type": "code",
   "execution_count": 90,
   "metadata": {},
   "outputs": [
    {
     "name": "stdout",
     "output_type": "stream",
     "text": [
      "value999999\n",
      "elasped time for dict : 0.0013701915740966797\n",
      "999999\n",
      "Elasped time for list: 0.6075179576873779\n"
     ]
    }
   ],
   "source": [
    "# track time for dictionary\n",
    "start_time = time.time()\n",
    "\n",
    "print(d[999999])\n",
    "\n",
    "end_time = time.time() - start_time\n",
    "\n",
    "print(f\"elasped time for dict : {end_time}\")\n",
    "\n",
    "\n",
    "# tracking time for list\n",
    "start_time = time.time()\n",
    "\n",
    "for i in range(len(big_list)):\n",
    "    if i == 999999:\n",
    "        print(i)\n",
    "        \n",
    "end_time = time.time() - start_time\n",
    "\n",
    "print(f\"Elasped time for list: {end_time}\")"
   ]
  },
  {
   "cell_type": "markdown",
   "metadata": {},
   "source": [
    "## Exercise #3 - Write a Function that asks someone's name and address, and then stores that into a dictionary, and continues to do so until they choose to 'quit'. Once they quit, the program should print all names and addresses. <br>\n",
    "<p>\n",
    "<b>Proper steps:</b><br>\n",
    "step 1: write a function that takes in information and stores it in a dictionary<br>\n",
    "step 2: define an empty dictionary to work with<br>\n",
    "step 3: create our loop, which asks the user for information until they quit<br>\n",
    "step 4: ask for the information, and store it into variables<br>\n",
    "step 5: check if the user types quit<br>\n",
    "step 5a: print out all information<br>\n",
    "step 5b: break out of the loop<br>\n",
    "step 6: if they didn't quit, add the information to the dictionary<br>\n",
    "step 7: invoke the function by calling it\n",
    "</p>"
   ]
  },
  {
   "cell_type": "code",
   "execution_count": 6,
   "metadata": {},
   "outputs": [
    {
     "name": "stdout",
     "output_type": "stream",
     "text": [
      "Enter a name, or 'quit' to quit: ethan\n",
      "Enter an adress, or say 'quit' to quit: 123 river\n",
      "Enter a name, or 'quit' to quit: quit\n",
      "The adress for ethan, is 123 river, Go vist them\n"
     ]
    }
   ],
   "source": [
    "# step 1: \n",
    "#  step 2 : define an empty dict to work with\n",
    "\n",
    "info = {}\n",
    "\n",
    "# step 3\n",
    "while True:\n",
    "    name = input(\"Enter a name, or 'quit' to quit: \")\n",
    "    if name.lower().strip() != \"quit\":\n",
    "        address = input(\"Enter an adress, or say 'quit' to quit: \")\n",
    "    if name.lower().strip() == 'quit' or address.lower().strip() == 'quit':\n",
    "        for key, value in info.items():\n",
    "            print(f\"The adress for {key}, is {value}, Go vist them\")\n",
    "        break\n",
    "    info[name] = address\n",
    "            \n"
   ]
  },
  {
   "cell_type": "markdown",
   "metadata": {},
   "source": [
    "## Set <br>\n",
    "<p>A Set is an unordered collection data type that is iterable (loop), mutable, and has no duplicate elements.<br>Major advantage is that it is highly optimized in checking if something is in the set, as opposed to checking if something is in a list.</p>"
   ]
  },
  {
   "cell_type": "markdown",
   "metadata": {},
   "source": [
    "##### Declaring"
   ]
  },
  {
   "cell_type": "code",
   "execution_count": 101,
   "metadata": {
    "scrolled": false
   },
   "outputs": [
    {
     "name": "stdout",
     "output_type": "stream",
     "text": [
      "{8, 1, 4}\n",
      "{1, 2, 3, 4, 9}\n",
      "[1, 2, 3, 4, 9]\n",
      "5\n"
     ]
    }
   ],
   "source": [
    "#  set() or {}\n",
    "#  {no order {3, 2, 1} might output {2, 3, 1}}\n",
    "\n",
    "nums = {4, 1, 8, 4}\n",
    "\n",
    "print(nums)\n",
    "\n",
    "my_list = [1, 1, 1, 1, 2, 2, 2, 2, 2, 3, 3, 3, 3, 4, 9, 9, 9, ]\n",
    "my_set = set(my_list)\n",
    "print(my_set)\n",
    "\n",
    "my_list = list(my_set)\n",
    "print(my_list)\n",
    "\n",
    "#  we can't index because sets are unorded\n",
    "\n",
    "# my_set[0]\n",
    "\n",
    "print(len(my_set))"
   ]
  },
  {
   "cell_type": "code",
   "execution_count": null,
   "metadata": {
    "scrolled": true
   },
   "outputs": [],
   "source": []
  },
  {
   "cell_type": "code",
   "execution_count": null,
   "metadata": {},
   "outputs": [],
   "source": []
  },
  {
   "cell_type": "markdown",
   "metadata": {},
   "source": [
    "##### .add()"
   ]
  },
  {
   "cell_type": "code",
   "execution_count": 103,
   "metadata": {},
   "outputs": [
    {
     "name": "stdout",
     "output_type": "stream",
     "text": [
      "{2, 4, 5, 7, 9}\n",
      "{2, 4, 5, 22, 7, 9}\n",
      "{2, 4, 5, 22, 7, 'Hello', 9}\n"
     ]
    }
   ],
   "source": [
    "my_set = {2, 5, 4, 7, 9}\n",
    "print(my_set)\n",
    "my_set.add(22)\n",
    "print(my_set)\n",
    "\n",
    "my_set.add(\"Hello\")\n",
    "\n",
    "my_set.add(2)\n",
    "print(my_set)"
   ]
  },
  {
   "cell_type": "markdown",
   "metadata": {},
   "source": [
    "##### .remove()"
   ]
  },
  {
   "cell_type": "code",
   "execution_count": 105,
   "metadata": {},
   "outputs": [
    {
     "name": "stdout",
     "output_type": "stream",
     "text": [
      "{4, 5, 7, 9}\n",
      "{4, 5, 7}\n"
     ]
    }
   ],
   "source": [
    "# / my_set.remove(value)\n",
    "my_set = {2, 5, 4, 7, 9}\n",
    "\n",
    "my_set.remove(2)\n",
    "\n",
    "print(my_set)\n",
    "\n",
    "my_set.remove(9)\n",
    "print(my_set)"
   ]
  },
  {
   "cell_type": "markdown",
   "metadata": {},
   "source": [
    "##### .union() "
   ]
  },
  {
   "cell_type": "code",
   "execution_count": 108,
   "metadata": {},
   "outputs": [
    {
     "name": "stdout",
     "output_type": "stream",
     "text": [
      "{1, 2, 3, 4, 5, 6}\n",
      "{1, 2, 3, 4, 5, 6}\n"
     ]
    }
   ],
   "source": [
    "# union will combine 2 sets\n",
    "\n",
    "#  can also use | in place of .union()\n",
    "# / my_set.union()\n",
    "\n",
    "s1 = {1, 2, 3, 4}\n",
    "s2 = {3, 4, 5, 6}\n",
    "\n",
    "s3 = s1.union(s2)\n",
    "print(s3)\n",
    "\n",
    "s4 = s2 | s1\n",
    "print(s4)"
   ]
  },
  {
   "cell_type": "markdown",
   "metadata": {},
   "source": [
    "##### .intersection()"
   ]
  },
  {
   "cell_type": "code",
   "execution_count": 109,
   "metadata": {},
   "outputs": [
    {
     "name": "stdout",
     "output_type": "stream",
     "text": [
      "{3, 4}\n"
     ]
    }
   ],
   "source": [
    "#  prints repeating elements\n",
    "\n",
    "s1 = {1, 2, 3, 4}\n",
    "s2 = {3, 4, 5, 6}\n",
    "\n",
    "s3 = s2.intersection(s1)\n",
    "print(s3)"
   ]
  },
  {
   "cell_type": "markdown",
   "metadata": {},
   "source": [
    "##### .difference()"
   ]
  },
  {
   "cell_type": "code",
   "execution_count": 111,
   "metadata": {},
   "outputs": [
    {
     "name": "stdout",
     "output_type": "stream",
     "text": [
      "{1, 2}\n",
      "{5, 6}\n"
     ]
    }
   ],
   "source": [
    "# returns whats in one list but not the other\n",
    "#  order will matter\n",
    "s1 = {1, 2, 3, 4}\n",
    "s2 = {3, 4, 5, 6}\n",
    "\n",
    "s7 = s1 - s2\n",
    "print(s7)\n",
    "\n",
    "# or\n",
    "s8 = s2.difference(s1)\n",
    "print(s8)\n"
   ]
  },
  {
   "cell_type": "markdown",
   "metadata": {},
   "source": [
    "##### .clear()"
   ]
  },
  {
   "cell_type": "code",
   "execution_count": 113,
   "metadata": {},
   "outputs": [
    {
     "name": "stdout",
     "output_type": "stream",
     "text": [
      "{3, 4, 5, 24, 11, 12}\n",
      "set()\n"
     ]
    }
   ],
   "source": [
    "#  emptys a set\n",
    "# set.clear()\n",
    "\n",
    "another_set = {3, 4, 5, 12, 11, 24}\n",
    "print(another_set)\n",
    "\n",
    "another_set.clear()\n",
    "print(another_set)"
   ]
  },
  {
   "cell_type": "code",
   "execution_count": null,
   "metadata": {},
   "outputs": [],
   "source": []
  },
  {
   "cell_type": "markdown",
   "metadata": {},
   "source": [
    "##### Frozenset <br>\n",
    "<p>Frozen sets are immutable objects that only support methods and operators that produce a result without affecting the frozen set or sets to which they are applied.</p><br><b>Unique & Immutable</b>"
   ]
  },
  {
   "cell_type": "code",
   "execution_count": 115,
   "metadata": {},
   "outputs": [
    {
     "name": "stdout",
     "output_type": "stream",
     "text": [
      "{'hello', 2, 3, 4, 7, 'my dog is awsome'}\n",
      "frozenset({'hello', 2, 3, 4, 7, 'my dog is awsome'})\n"
     ]
    }
   ],
   "source": [
    "# frozenset()\n",
    "my_set = {2, 3, 4, 'hello', 7, 'my dog is awsome'}\n",
    "print(my_set)\n",
    "\n",
    "frozen_set = frozenset(my_set)\n",
    "print(frozen_set)"
   ]
  },
  {
   "cell_type": "markdown",
   "metadata": {},
   "source": [
    "# Exercises"
   ]
  },
  {
   "cell_type": "markdown",
   "metadata": {},
   "source": [
    "### 1) Build a Shopping Cart <br>\n",
    "<p><b>You can use either lists or dictionaries. The program should have the following capabilities:</b><br><br>\n",
    "1) Takes in input <br>\n",
    "2) Stores user input into a dictionary or list <br>\n",
    "3) The User can add or delete items <br>\n",
    "4) The User can see current shopping list <br>\n",
    "5) The program Loops until user 'quits' <br>\n",
    "6) Upon quiting the program, print out all items in the user's list <br>\n",
    "</p>"
   ]
  },
  {
   "cell_type": "code",
   "execution_count": 12,
   "metadata": {},
   "outputs": [
    {
     "name": "stdout",
     "output_type": "stream",
     "text": [
      "[q] to quit. What do you want to buy: pants\n",
      "[q] to quit. Enter the price: $4.00\n",
      "[q] to quit. What do you want to buy: q\n",
      "[q] to quit. Enter the price: q\n",
      "Your grocery cart has pants and it cost $4.00.\n"
     ]
    }
   ],
   "source": [
    "from IPython.display import clear_output\n",
    "\n",
    "# Ask the user four bits of input: Do you want to : Show/Add/Delete or Quit?\n",
    "# how to do you want to store these items \n",
    "\n",
    "my_store_dict = {}\n",
    "\n",
    "while True:\n",
    "    store_item = input(\"[q] to quit. What do you want to buy: \")\n",
    "    if store_item != 'quit':\n",
    "        item_cost = input(\"[q] to quit. Enter the price: \")\n",
    "    if store_item.lower().strip() == 'q' or item_cost.lower().strip() == 'q':\n",
    "        for key, value in my_store_dict.items():\n",
    "            print(f\"Your grocery cart has {key} and it cost {value}.\")\n",
    "        break\n",
    "    my_store_dict[store_item] = item_cost\n",
    "    \n",
    "    \n",
    "\n"
   ]
  },
  {
   "cell_type": "code",
   "execution_count": null,
   "metadata": {},
   "outputs": [],
   "source": [
    "from IPython.display import clear_output\n",
    "\n",
    "# Ask the user four bits of input: Do you want to : Show/Add/Delete or Quit?\n",
    "# how to do you want to store these items \n",
    "\n",
    "my_store_dict = {}\n",
    "\n",
    "while True:\n",
    "    store_item = input(\"[q] to quit. What do you want to buy: \")\n",
    "    if store_item != 'quit':\n",
    "        item_cost = input(\"[q] to quit. Enter the price: \")\n",
    "    if item_cost != 'quit':\n",
    "        delete_item = input(\"Do you want to delete an item? yes or no: \")\n",
    "    if delete_item == \"yes\":\n",
    "        for key, value in my_store_dict.items():\n",
    "            del my_store_dict[key]\n",
    "    if store_item.lower().strip() == 'quit' or item_cost.lower().strip() == 'quit':\n",
    "        for key, value in my_store_dict.items():\n",
    "            print(f\"Your grocery cart has {key} and it cost {value}.\")\n",
    "        break\n",
    "    my_store_dict[store_item] = item_cost\n",
    "    \n",
    "    \n",
    "\n"
   ]
  },
  {
   "cell_type": "code",
   "execution_count": null,
   "metadata": {},
   "outputs": [],
   "source": [
    "# 1 give them 4 options\n",
    "#  do you want to add, delete, show cart, or quit\n",
    "# store what you want to delete in a variable, pass that through del dict[variable]\n",
    "while true:\n",
    "    number = input(\"type in a number 1, 2, 3, 4\")\n",
    "    #these steps do different things\n",
    "    # if 1 :\n",
    "    #buy = input(\"what do you want to buy: \")\n",
    "    #cost = input(how much is this)\n",
    "    #if 2:\n",
    "    #do you want to delet yes or no\n",
    "    # if yes \n",
    "    #do something\n",
    "    # if no\n",
    "    #do somthing\n",
    "    #if 4 \n",
    "    #if store_item.lower().strip() == 'quit' or item_cost.lower().strip() == 'quit':\n",
    "        #for key, value in my_store_dict.items():\n",
    "            #print(f\"Your grocery cart has {key} and it cost {value}.\")\n",
    "        #break\n",
    "    \n",
    "        "
   ]
  },
  {
   "cell_type": "code",
   "execution_count": null,
   "metadata": {},
   "outputs": [],
   "source": [
    "from IPython.display import clear_output\n",
    "\n",
    "# Ask the user four bits of input: Do you want to : Show/Add/Delete or Quit?\n",
    "# how to do you want to store these items \n",
    "\n",
    "my_store_dict = {}\n",
    "\n",
    "while True:\n",
    "    choice = int(input(\"type 1: adds to cart.\\ntype 2: deletes an item from cart\\ntype 3: shows your cart\\ntype 4: quits\\nChoose a number: \"))\n",
    "    if choice == 1:\n",
    "        store_item = input(\"\\nwhat do you want to buy: \")\n",
    "        cost = input(\"\\nwhats the price: \")\n",
    "        my_store_dict[store_item] = cost\n",
    "    elif choice == 2:\n",
    "        for key, value in my_store_dict.items():\n",
    "            print(f\"\\nYour cart has {key} and it cost {value}.\")\n",
    "        delete_item = input(\"\\nWhat item do you want to delete?: \")\n",
    "        del my_store_dict[delete_item]\n",
    "    elif choice == 3:\n",
    "        for key, value in my_store_dict.items():\n",
    "            print(f\"\\nYour cart has {key} and it cost {value}.\")\n",
    "    elif choice == 4:\n",
    "        for key, value in my_store_dict.items():\n",
    "            print(f\"\\nYour cart has {key} and it cost {value}.\")\n",
    "        break\n",
    "    else:\n",
    "        print(\"Damn you suck\")\n",
    "        "
   ]
  },
  {
   "cell_type": "markdown",
   "metadata": {},
   "source": [
    "### 2) Set Practice"
   ]
  },
  {
   "cell_type": "markdown",
   "metadata": {},
   "source": [
    "<p><b>Remove all duplicates from the following list</b></p>"
   ]
  },
  {
   "cell_type": "code",
   "execution_count": 95,
   "metadata": {},
   "outputs": [
    {
     "name": "stdout",
     "output_type": "stream",
     "text": [
      "[1, 2, 3, 5, 6, 4, 12, 11, 14, 16]\n"
     ]
    }
   ],
   "source": [
    "\n",
    "nums_list = [1, 1, 1, 2, 2, 3, 5, 6, 4, 12, 11, 12, 12, 14, 16, 16, 16, 1, 1, 1, 2, 2]\n",
    "\n",
    "new_list = []\n",
    "for i in nums_list:\n",
    "    if i not in new_list:\n",
    "        new_list.append(i)\n",
    "        \n",
    "print(new_list)"
   ]
  },
  {
   "cell_type": "markdown",
   "metadata": {},
   "source": [
    "<p><b>Out put the intersection of the following the following sets.</b></p>"
   ]
  },
  {
   "cell_type": "code",
   "execution_count": 3,
   "metadata": {},
   "outputs": [
    {
     "name": "stdout",
     "output_type": "stream",
     "text": [
      "{26, 27}\n"
     ]
    }
   ],
   "source": [
    "set1 = {20, 24, 26, 27}\n",
    "set2 = {26, 35, 63, 27}\n",
    "\n",
    "set3 = set1.intersection(set2)\n",
    "\n",
    "print(set3)"
   ]
  },
  {
   "cell_type": "markdown",
   "metadata": {},
   "source": [
    "<p><b>Output the difference between the following sets</b></p>"
   ]
  },
  {
   "cell_type": "code",
   "execution_count": 5,
   "metadata": {},
   "outputs": [
    {
     "name": "stdout",
     "output_type": "stream",
     "text": [
      "{89, 100}\n"
     ]
    }
   ],
   "source": [
    "set3 = {100, 65, 89, 200}\n",
    "set4 = {65, 103, 54, 200}\n",
    "\n",
    "set5 = set3.difference(set4)\n",
    "print(set5)"
   ]
  }
 ],
 "metadata": {
  "kernelspec": {
   "display_name": "Python 3 (ipykernel)",
   "language": "python",
   "name": "python3"
  },
  "language_info": {
   "codemirror_mode": {
    "name": "ipython",
    "version": 3
   },
   "file_extension": ".py",
   "mimetype": "text/x-python",
   "name": "python",
   "nbconvert_exporter": "python",
   "pygments_lexer": "ipython3",
   "version": "3.9.7"
  }
 },
 "nbformat": 4,
 "nbformat_minor": 2
}
